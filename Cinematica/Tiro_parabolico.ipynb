{
 "cells": [
  {
   "cell_type": "markdown",
   "metadata": {},
   "source": [
    "## Tiro Parabólico"
   ]
  },
  {
   "cell_type": "markdown",
   "metadata": {},
   "source": [
    "Una de las primeras cosas que se aprenden en física es el tiro parabólico. Veamos como programarlo. El tiro parabólico se caracteriza por realizar una composición de dos tipos de movimientos:\n",
    "\n",
    "un movimiento rectilíneo uniforme (MRU) en el eje $x$ \n",
    "un movimiento rectilíneo uniformemente acelerado (MRUA) en el eje $y$\n",
    "\n",
    "Las ecuaciones que podemos utilizar son\n",
    "\n",
    "$$\n",
    "v_{0x} = v_0 sin(\\theta)\\\\\n",
    "v_{0y} = v_0 cos(\\theta)\n",
    "$$\n",
    "en el eje $x$ un MRU:\n",
    "$$\n",
    "x = v_{0x}t\n",
    "$$\n",
    "en el eje $y$ un MRUA:\n",
    "$$\n",
    "y = y_0 + v_{0y}t + \\frac{1}{2}gt^{2}\\\\\n",
    "v_y = v_{0y} + gt\n",
    "$$\n",
    "\n",
    "Siendo la composición de los dos una parábola."
   ]
  },
  {
   "cell_type": "code",
   "execution_count": 51,
   "metadata": {},
   "outputs": [],
   "source": [
    "# Importamos las librerías que vamos a necesitar\n",
    "import matplotlib\n",
    "from matplotlib import pyplot as plt\n",
    "import math\n",
    "import numpy as np\n",
    "\n",
    "matplotlib.style.use('bmh')\n"
   ]
  },
  {
   "cell_type": "code",
   "execution_count": 52,
   "metadata": {
    "collapsed": true
   },
   "outputs": [],
   "source": [
    "def values_inic(ang,v0):\n",
    "    \"\"\"Pensado para angulos en grados que se pasan a radianes. \n",
    "    La velocidad inicial tiene que estar en m/s. La salida son tres valores: vx, vy y t_tot\"\"\"\n",
    "    \n",
    "    # angr = ang* math.pi /180\n",
    "    angr = math.radians(ang)\n",
    "    \n",
    "    u = v0 * math.sin(angr)\n",
    "    v = v0 * math.cos(angr)\n",
    "    t_tot = (2*v)/g\n",
    "    \n",
    "    return (u,v,t_tot)\n"
   ]
  },
  {
   "cell_type": "code",
   "execution_count": 53,
   "metadata": {
    "collapsed": true
   },
   "outputs": [],
   "source": [
    "def positions(u,v):\n",
    "    x = []\n",
    "    y = []\n",
    "    \n",
    "    for t in intervalo:\n",
    "        x.append(u*t) \n",
    "        y.append(v*t - 0.5*g*t**2)\n",
    "        \n",
    "    return x,y\n",
    "        "
   ]
  },
  {
   "cell_type": "code",
   "execution_count": 54,
   "metadata": {},
   "outputs": [],
   "source": [
    "def draw_tiro(t_tot):\n",
    "    plt.plot(xx,yy)\n",
    "    plt.xlabel('coordenada x')\n",
    "    plt.ylabel('coordenada y')\n",
    "    plt.title('Tiro parabólico')\n",
    "    plt.text(20,10,'Tiempo total del tiro {0} s'.format(t_tot))\n",
    "    plt.show()\n"
   ]
  },
  {
   "cell_type": "code",
   "execution_count": 55,
   "metadata": {},
   "outputs": [
    {
     "data": {
      "image/png": "[encoded data removed]",
      "text/plain": [
       "<matplotlib.figure.Figure at 0x110c79a90>"
      ]
     },
     "metadata": {},
     "output_type": "display_data"
    }
   ],
   "source": [
    "if __name__ == '__main__':\n",
    "    \n",
    "    try:\n",
    "        ang = 30\n",
    "        v0 = 50\n",
    "        g = 9.8\n",
    "\n",
    "        uu,vv,tt = values_inic(ang,v0)\n",
    "        intervalo = np.linspace(0,tt,2000)\n",
    "        xx,yy = positions(uu,vv)\n",
    "        \n",
    "    except ValueError:\n",
    "        \n",
    "        print('Algún valor está mal, el ángulo en grados y v en m/s')\n",
    "        \n",
    "    else:\n",
    "        \n",
    "        draw_tiro(tt)"
   ]
  },
  {
   "cell_type": "code",
   "execution_count": null,
   "metadata": {
    "collapsed": true
   },
   "outputs": [],
   "source": []
  }
 ],
 "metadata": {
  "kernelspec": {
   "display_name": "Python 3",
   "language": "python",
   "name": "python3"
  },
  "language_info": {
   "codemirror_mode": {
    "name": "ipython",
    "version": 3
   },
   "file_extension": ".py",
   "mimetype": "text/x-python",
   "name": "python",
   "nbconvert_exporter": "python",
   "pygments_lexer": "ipython3",
   "version": "3.6.0"
  }
 },
 "nbformat": 4,
 "nbformat_minor": 2
}
