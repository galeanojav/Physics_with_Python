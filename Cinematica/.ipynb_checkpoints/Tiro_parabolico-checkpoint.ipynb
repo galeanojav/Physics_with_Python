{
 "cells": [
  {
   "cell_type": "markdown",
   "metadata": {},
   "source": [
    "## Tiro Parabólico\n",
    "\n",
    "Una de las primeras cosas que se aprenden en física es el tiro parabólico. Veamos como programarlo."
   ]
  },
  {
   "cell_type": "markdown",
   "metadata": {},
   "source": [
    "El tiro parabólico se caracteriza por realizar una composición de dos tipos de movimientos:\n",
    "\n",
    "un movimiento rectilíneo uniforme (MRU) en el eje $x$ \n",
    "un movimiento rectilíneo uniformemente acelerado en el eje $y$\n",
    "\n",
    "Siendo la composición de los dos una parábola. Las ecuaciones que podemos utilizar son\n",
    "\n",
    "$$\n",
    "v_{0x} = v_0 sin(\\theta)\\\\\n",
    "v_{0y} = v_0 cos(\\theta)\n",
    "$$\n",
    "en el eje $x$:\n",
    "$$\n",
    "x = v_{0x}t\n",
    "$$\n",
    "en el eje $y$\n",
    "$$\n",
    "y = y_0 + v_{0y}t + \\frac{1}{2}gt^{2}\\\\\n",
    "v_y = v_{0y} + gt\n",
    "$$\n",
    "\n"
   ]
  },
  {
   "cell_type": "code",
   "execution_count": 1,
   "metadata": {
    "collapsed": true
   },
   "outputs": [],
   "source": [
    "# Importamos las librerías que vamos a necesitar\n",
    "\n",
    "from matplotlib import pyplot as plt\n",
    "import math"
   ]
  },
  {
   "cell_type": "code",
   "execution_count": 23,
   "metadata": {
    "collapsed": true
   },
   "outputs": [],
   "source": [
    "g = 9.8\n",
    "\n",
    "def values_inic(ang,v0):\n",
    "    \"\"\"Pensado para angulos en grados que se pasan a radianes. \n",
    "    La velocidad inicial tiene que estar en m/s. La salida son tres valores: vx, vy y t_tot\"\"\"\n",
    "    \n",
    "    # angr = ang* math.pi /180\n",
    "    angr = math.radians(ang)\n",
    "    \n",
    "    u = v0 * math.sin(angr)\n",
    "    v = v0 * math.cos(angr)\n",
    "    t_tot = 2*u/g\n",
    "    \n",
    "    return (u,v,t_tot)\n"
   ]
  },
  {
   "cell_type": "code",
   "execution_count": 31,
   "metadata": {},
   "outputs": [],
   "source": [
    "def frange(start, final, interval):\n",
    "    numbers = []\n",
    "    while start < final:\n",
    "        numbers.append(start)\n",
    "        start = start + interval\n",
    "    return numbers\n",
    "\n",
    "uu,vv, tt = values_inic(30, 20)"
   ]
  },
  {
   "cell_type": "code",
   "execution_count": 47,
   "metadata": {},
   "outputs": [
    {
     "data": {
      "text/plain": [
       "2041"
      ]
     },
     "execution_count": 47,
     "metadata": {},
     "output_type": "execute_result"
    }
   ],
   "source": [
    "intervals = frange(0, tt, 0.001)\n",
    "len(intervals)"
   ]
  },
  {
   "cell_type": "code",
   "execution_count": 48,
   "metadata": {},
   "outputs": [
    {
     "data": {
      "text/plain": [
       "array([  0.00000000e+00,   1.02091862e-03,   2.04183725e-03, ...,\n",
       "         2.03877449e+00,   2.03979541e+00,   2.04081633e+00])"
      ]
     },
     "execution_count": 48,
     "metadata": {},
     "output_type": "execute_result"
    }
   ],
   "source": [
    "import numpy as np\n",
    "\n",
    "intervalo = np.linspace(0,tt,2000)\n",
    "intervalo"
   ]
  },
  {
   "cell_type": "code",
   "execution_count": 16,
   "metadata": {},
   "outputs": [
    {
     "name": "stdout",
     "output_type": "stream",
     "text": [
      "2.040816326530612\n"
     ]
    }
   ],
   "source": [
    "print(t_vuelo(uu))"
   ]
  },
  {
   "cell_type": "code",
   "execution_count": null,
   "metadata": {
    "collapsed": true
   },
   "outputs": [],
   "source": []
  }
 ],
 "metadata": {
  "kernelspec": {
   "display_name": "Python 3",
   "language": "python",
   "name": "python3"
  },
  "language_info": {
   "codemirror_mode": {
    "name": "ipython",
    "version": 3
   },
   "file_extension": ".py",
   "mimetype": "text/x-python",
   "name": "python",
   "nbconvert_exporter": "python",
   "pygments_lexer": "ipython3",
   "version": "3.6.0"
  }
 },
 "nbformat": 4,
 "nbformat_minor": 2
}
