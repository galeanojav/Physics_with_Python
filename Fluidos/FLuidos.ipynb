{
 "cells": [
  {
   "cell_type": "code",
   "execution_count": 151,
   "metadata": {},
   "outputs": [],
   "source": [
    "import numpy as np\n",
    "import matplotlib\n",
    "from pylab import *"
   ]
  },
  {
   "cell_type": "markdown",
   "metadata": {},
   "source": [
    "Empezamos con la ecuación de bernoulli \n",
    "$$\n",
    "\\begin{equation}\n",
    "p_1 + \\rho g z_1 + \\frac{1}{2} \\rho v_{1}^{2} = p_2 + \\rho g z_2 + \\frac{1}{2} \\rho v_{2}^{2}\n",
    "\\end{equation}\n",
    "$$\n",
    "\n",
    "En el caso del grifo las presiones son en ambos casos igual a la presión atmosférica $p_1 =p_2= p_0$ y la altura en 2 será cero, $z_2 = 0$ y $z_1 = h$. Por tanto, quitando $\\rho$ de todos los sumandos, nos queda la ecuación final:\n",
    "$$\n",
    "\\begin{equation}\n",
    "g h + \\frac{1}{2} v_{1}^{2} = \\frac{1}{2} v_{2}^{2}\n",
    "\\end{equation}\n",
    "$$\n",
    "es decir:\n",
    "\\begin{equation}\n",
    "v_{2}^{2} = v_{1}^{2} + 2gh\n",
    "\\end{equation}"
   ]
  },
  {
   "cell_type": "markdown",
   "metadata": {},
   "source": [
    "Si ahora aplicamos la ecuación de continuidad\n",
    "$$\n",
    "\\begin{equation}\n",
    "S_1v_1 = S_2 v_2\n",
    "\\end{equation}\n",
    "$$\n",
    "Si las secciones son circulares $S_1 = \\pi r_{1}^{2}$\n",
    "$$\n",
    "\\begin{equation}\n",
    "v_1 \\pi r_{0}^{2}= v_2 \\pi r_{2}^{2}\n",
    "\\end{equation}\n",
    "$$\n",
    "Si sustituimos la velocidad en 2 y despejamos el radio final $r_2$, obtendremos el radio en función de $h$\n",
    "\\begin{equation}\n",
    "r_{2}=r_{1}\\sqrt{\\frac{v_{1}^{2}}{v_{1}^{2}+2gh}} \n",
    "\\end{equation}\n"
   ]
  },
  {
   "cell_type": "code",
   "execution_count": 243,
   "metadata": {},
   "outputs": [],
   "source": [
    "# definimos valores iniciales\n",
    "\n",
    "v1 = 0.5            # Velocidad em m/s\n",
    "r0=0.015/2          # radio en m\n",
    "H=50             # altura en cm"
   ]
  },
  {
   "cell_type": "code",
   "execution_count": 244,
   "metadata": {},
   "outputs": [],
   "source": [
    "def radio(v1,r0,h):\n",
    "    g = 9.8\n",
    "    h=h/100\n",
    "    v12=np.power(v1,2)\n",
    "    den = v12+(2*g*h)\n",
    "    return r0*np.sqrt(v12/den)\n"
   ]
  },
  {
   "cell_type": "code",
   "execution_count": 245,
   "metadata": {},
   "outputs": [],
   "source": [
    "r2=[]\n",
    "r_2 = []\n",
    "yplot=[]\n",
    "for h in range(H):\n",
    "    r2.append(radio(v1,r0,h))\n",
    "    r_2.append(-radio(v1,r0,h))\n",
    "    yplot.append(h*0.01)\n"
   ]
  },
  {
   "cell_type": "code",
   "execution_count": 246,
   "metadata": {},
   "outputs": [
    {
     "data": {
      "image/png": "[encoded data removed]",
      "text/plain": [
       "<matplotlib.figure.Figure at 0x117d1e2b0>"
      ]
     },
     "metadata": {},
     "output_type": "display_data"
    }
   ],
   "source": [
    "yp=sorted(yplot,reverse = True)\n",
    "plot(r2,yp,'-')\n",
    "plot(r_2,yp,'-')\n",
    "xlim(-0.02,0.02)\n",
    "show()"
   ]
  },
  {
   "cell_type": "code",
   "execution_count": 214,
   "metadata": {},
   "outputs": [],
   "source": [
    "v1 = 0.5\n",
    "r0=0.015/2\n",
    "H=50\n",
    "x=np.arange(H,0,-1)\n",
    "r1=np.zeros(H)\n",
    "r1 = radio(v1,r0,x)\n",
    "r_1 = -radio(v1,r0,x)"
   ]
  },
  {
   "cell_type": "code",
   "execution_count": 247,
   "metadata": {},
   "outputs": [
    {
     "data": {
      "image/png": "[encoded data removed]",
      "text/plain": [
       "<matplotlib.figure.Figure at 0x1177969b0>"
      ]
     },
     "metadata": {},
     "output_type": "display_data"
    }
   ],
   "source": [
    "x1=sort(x)\n",
    "plot(r1,0.01*x1,'+')\n",
    "plot(r_1,0.01*x1,'+')\n",
    "xlim(-0.02,0.02)\n",
    "show()"
   ]
  },
  {
   "cell_type": "code",
   "execution_count": null,
   "metadata": {},
   "outputs": [],
   "source": []
  }
 ],
 "metadata": {
  "kernelspec": {
   "display_name": "Python 3",
   "language": "python",
   "name": "python3"
  },
  "language_info": {
   "codemirror_mode": {
    "name": "ipython",
    "version": 3
   },
   "file_extension": ".py",
   "mimetype": "text/x-python",
   "name": "python",
   "nbconvert_exporter": "python",
   "pygments_lexer": "ipython3",
   "version": "3.6.3"
  }
 },
 "nbformat": 4,
 "nbformat_minor": 2
}
