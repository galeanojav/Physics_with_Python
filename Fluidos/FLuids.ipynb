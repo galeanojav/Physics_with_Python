{
 "cells": [
  {
   "cell_type": "markdown",
   "metadata": {},
   "source": [
    "## Radio de un chorro de agua\n",
    "\n",
    "Estudio de como cambia el radio de un chorro de agua que sale de un grifo "
   ]
  },
  {
   "cell_type": "markdown",
   "metadata": {},
   "source": [
    "Empezamos con la ecuación de bernoulli \n",
    "$$\n",
    "\\begin{equation}\n",
    "p_1 + \\rho g z_1 + \\frac{1}{2} \\rho v_{1}^{2} = p_2 + \\rho g z_2 + \\frac{1}{2} \\rho v_{2}^{2}\n",
    "\\end{equation}\n",
    "$$\n",
    "\n",
    "En el caso del grifo las presiones son en ambos casos igual a la presión atmosférica $p_1 =p_2= p_0$ y la altura en 2 será cero, $z_2 = 0$ y $z_1 = h$. Por tanto, quitando $\\rho$ de todos los sumandos, nos queda la ecuación final:\n",
    "$$\n",
    "\\begin{equation}\n",
    "g h + \\frac{1}{2} v_{1}^{2} = \\frac{1}{2} v_{2}^{2}\n",
    "\\end{equation}\n",
    "$$\n",
    "es decir:\n",
    "\\begin{equation}\n",
    "v_{2}^{2} = v_{1}^{2} + 2gh\n",
    "\\end{equation}"
   ]
  },
  {
   "cell_type": "markdown",
   "metadata": {},
   "source": [
    "Si ahora aplicamos la ecuación de continuidad\n",
    "$$\n",
    "\\begin{equation}\n",
    "S_{1}v_{1} = S_{2} v_{2}\n",
    "\\end{equation}\n",
    "Si las secciones son circulares $S_{1} = \\pi r_{1}^{2}$\n",
    "\\begin{equation}\n",
    "v_{1} \\pi r_{1}^{2}= v_{2} \\pi r_{2}^{2}\n",
    "\\end{equation}\n",
    "\n",
    "Si sustituimos la velocidad en 2 y despejamos el radio final $r_{2}$, obtendremos el radio en función de $h$\n",
    "\\begin{equation}\n",
    "r_{2}=r_{1}\\sqrt[4]{\\frac{v_{1}^{2}}{v_{1}^{2}+2gh}} \n",
    "\\end{equation}"
   ]
  },
  {
   "cell_type": "code",
   "execution_count": 1,
   "metadata": {
    "collapsed": true
   },
   "outputs": [],
   "source": [
    "# Importamos las librerías que vamos a necesitar\n",
    "\n",
    "from matplotlib import pyplot as plt\n",
    "import numpy as np\n"
   ]
  },
  {
   "cell_type": "code",
   "execution_count": 2,
   "metadata": {
    "collapsed": true
   },
   "outputs": [],
   "source": [
    "def radio(v1,r0,h):\n",
    "    \"\"\"cálculo del valor del radio. La h debe estar en cm y se pasa a m\"\"\"\n",
    "    h=h/100\n",
    "    v12=np.power(v1,2)\n",
    "    den = np.sqrt(v12+(2*g*h))\n",
    "    return r0*np.sqrt(v1/den)\n"
   ]
  },
  {
   "cell_type": "code",
   "execution_count": 3,
   "metadata": {
    "collapsed": true
   },
   "outputs": [],
   "source": [
    "def draw_tap(x,v1):\n",
    "    \"\"\"Dibuja el choorro de agua. Pasamos las alturas de x a cm\"\"\"\n",
    "    x1=sorted(x*0.01)\n",
    "    plt.plot(r1,x1,'-')\n",
    "    plt.plot(r_1,x1,'-')\n",
    "    plt.xlim(-r0*5,r0*5)\n",
    "    plt.xlabel('radio del flujo (m)')\n",
    "    plt.ylabel('Altura del grifo (m) ')\n",
    "    plt.title('Curvatura de un chorro de agua')\n",
    "    plt.text(-r0*4,0.1,'velocidad {0:.2f} m/s'.format(v1))\n",
    "    plt.show()\n",
    "    "
   ]
  },
  {
   "cell_type": "code",
   "execution_count": 5,
   "metadata": {},
   "outputs": [
    {
     "data": {
      "image/png": "[encoded data removed]",
      "text/plain": [
       "<matplotlib.figure.Figure at 0x112cc6a20>"
      ]
     },
     "metadata": {},
     "output_type": "display_data"
    }
   ],
   "source": [
    "if __name__ == '__main__':\n",
    "    \n",
    "    try:\n",
    "        v1 = 0.5         # velocidad inicial del agua en m/s\n",
    "        r0 = 0.015/2     # diámetro de un grifo de 1.5 cm\n",
    "        g = 9.8          # g de la Tierra\n",
    "        H=50             # Altura al lavadero en cm\n",
    "        \n",
    "        x2=np.linspace(H,1)\n",
    "        r1 = radio(v1,r0,x2)\n",
    "        r_1 = -radio(v1,r0,x2)\n",
    "        \n",
    "    except ValueError:\n",
    "        \n",
    "        print('Algún valor está mal, recuerda la h en cm ')\n",
    "        \n",
    "    else:\n",
    "        \n",
    "        draw_tap(x2,v1)"
   ]
  },
  {
   "cell_type": "code",
   "execution_count": null,
   "metadata": {
    "collapsed": true
   },
   "outputs": [],
   "source": []
  }
 ],
 "metadata": {
  "kernelspec": {
   "display_name": "Python 3",
   "language": "python",
   "name": "python3"
  },
  "language_info": {
   "codemirror_mode": {
    "name": "ipython",
    "version": 3
   },
   "file_extension": ".py",
   "mimetype": "text/x-python",
   "name": "python",
   "nbconvert_exporter": "python",
   "pygments_lexer": "ipython3",
   "version": "3.6.3"
  }
 },
 "nbformat": 4,
 "nbformat_minor": 2
}
