{
 "cells": [
  {
   "cell_type": "markdown",
   "metadata": {},
   "source": [
    "## Radio de un chorro de agua\n",
    "\n",
    "Estudio de como cambia el radio de un chorro de agua que sale de un grifo "
   ]
  },
  {
   "cell_type": "markdown",
   "metadata": {},
   "source": [
    "Empezamos con la ecuación de bernoulli \n",
    "$$\n",
    "\\begin{equation}\n",
    "p_1 + \\rho g z_1 + \\frac{1}{2} \\rho v_{1}^{2} = p_2 + \\rho g z_2 + \\frac{1}{2} \\rho v_{2}^{2}\n",
    "\\end{equation}\n",
    "$$\n",
    "\n",
    "En el caso del grifo las presiones son en ambos casos igual a la presión atmosférica $p_1 =p_2= p_0$ y la altura en 2 será cero, $z_2 = 0$ y $z_1 = h$. Por tanto, quitando $\\rho$ de todos los sumandos, nos queda la ecuación final:\n",
    "$$\n",
    "\\begin{equation}\n",
    "g h + \\frac{1}{2} v_{1}^{2} = \\frac{1}{2} v_{2}^{2}\n",
    "\\end{equation}\n",
    "$$\n",
    "es decir:\n",
    "\\begin{equation}\n",
    "v_{2}^{2} = v_{1}^{2} + 2gh\n",
    "\\end{equation}"
   ]
  },
  {
   "cell_type": "markdown",
   "metadata": {},
   "source": [
    "Si ahora aplicamos la ecuación de continuidad\n",
    "$$\n",
    "\\begin{equation}\n",
    "S_1v_1 = S_2 v_2\n",
    "\\end{equation}\n",
    "$$\n",
    "Si las secciones son circulares $S_1 = \\pi r_{1}^{2}$\n",
    "$$\n",
    "\\begin{equation}\n",
    "v_1 \\pi r_{0}^{2}= v_2 \\pi r_{2}^{2}\n",
    "\\end{equation}\n",
    "$$\n",
    "Si sustituimos la velocidad en 2 y despejamos el radio final $r_2$, obtendremos el radio en función de $h$\n",
    "\\begin{equation}\n",
    "r_{2}=r_{1}\\sqrt{\\frac{v_{1}^{2}}{v_{1}^{2}+2gh}} \n",
    "\\end{equation}\n"
   ]
  },
  {
   "cell_type": "code",
   "execution_count": 11,
   "metadata": {},
   "outputs": [],
   "source": [
    "# Importamos las librerías que vamos a necesitar\n",
    "\n",
    "from matplotlib import pyplot as plt\n",
    "import numpy as np\n"
   ]
  },
  {
   "cell_type": "code",
   "execution_count": 12,
   "metadata": {},
   "outputs": [],
   "source": [
    "def radio(v1,r0,h):\n",
    "    \"\"\"cálculo del valor del radio. La h debe estar en cm y se pasa a m\"\"\"\n",
    "    h=h/100\n",
    "    v12=np.power(v1,2)\n",
    "    den = v12+(2*g*h)\n",
    "    return r0*np.sqrt(v12/den)\n"
   ]
  },
  {
   "cell_type": "code",
   "execution_count": 15,
   "metadata": {},
   "outputs": [],
   "source": [
    "def draw_tap(x,v1):\n",
    "    \"\"\"Dibuja el choorro de agua. Pasamos las alturas de x a cm\"\"\"\n",
    "    x1=sorted(x*0.01)\n",
    "    plt.plot(r1,x1,'-')\n",
    "    plt.plot(r_1,x1,'-')\n",
    "    plt.xlim(-r0*5,r0*5)\n",
    "    plt.xlabel('radio del flujo (m)')\n",
    "    plt.ylabel('Altura del grifo (m) ')\n",
    "    plt.title('Curvatura de un chorro de agua')\n",
    "    plt.text(-r0*4,0.1,'velocidad {0:.2f} m/s'.format(v1))\n",
    "    plt.show()\n",
    "    "
   ]
  },
  {
   "cell_type": "code",
   "execution_count": 18,
   "metadata": {},
   "outputs": [
    {
     "data": {
      "image/png": "[encoded data removed]",
      "text/plain": [
       "<matplotlib.figure.Figure at 0x1066720f0>"
      ]
     },
     "metadata": {},
     "output_type": "display_data"
    }
   ],
   "source": [
    "if __name__ == '__main__':\n",
    "    \n",
    "    try:\n",
    "        v1 = 0.5\n",
    "        r0 = 0.015/2\n",
    "        g = 9.8\n",
    "        H=50\n",
    "        \n",
    "        x2=np.linspace(H,1)\n",
    "        r1 = radio(v1,r0,x2)\n",
    "        r_1 = -radio(v1,r0,x2)\n",
    "        \n",
    "    except ValueError:\n",
    "        \n",
    "        print('Algún valor está mal, la h en cm ')\n",
    "        \n",
    "    else:\n",
    "        \n",
    "        draw_tap(x2,v1)"
   ]
  },
  {
   "cell_type": "code",
   "execution_count": null,
   "metadata": {},
   "outputs": [],
   "source": []
  }
 ],
 "metadata": {
  "kernelspec": {
   "display_name": "Python 3",
   "language": "python",
   "name": "python3"
  },
  "language_info": {
   "codemirror_mode": {
    "name": "ipython",
    "version": 3
   },
   "file_extension": ".py",
   "mimetype": "text/x-python",
   "name": "python",
   "nbconvert_exporter": "python",
   "pygments_lexer": "ipython3",
   "version": "3.6.3"
  }
 },
 "nbformat": 4,
 "nbformat_minor": 2
}
